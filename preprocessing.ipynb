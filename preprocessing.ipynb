{
 "cells": [
  {
   "cell_type": "code",
   "execution_count": 2,
   "metadata": {},
   "outputs": [],
   "source": [
    "import pandas as pd"
   ]
  },
  {
   "cell_type": "code",
   "execution_count": 3,
   "metadata": {},
   "outputs": [],
   "source": [
    "df = pd.read_csv('topical_chat.csv')"
   ]
  },
  {
   "cell_type": "code",
   "execution_count": 4,
   "metadata": {},
   "outputs": [],
   "source": [
    "filtered_rows = df['message']"
   ]
  },
  {
   "cell_type": "code",
   "execution_count": 5,
   "metadata": {},
   "outputs": [
    {
     "data": {
      "text/plain": [
       "0                     Are you a fan of Google or Microsoft?\n",
       "1          Both are excellent technology they are helpfu...\n",
       "2          I'm not  a huge fan of Google, but I use it a...\n",
       "3          Google provides online related services and p...\n",
       "4          Yeah, their services are good. I'm just not a...\n",
       "                                ...                        \n",
       "188373     Wow, it does not seem like that long. Since I...\n",
       "188374     I havent seen that episode, I might google it...\n",
       "188375     I don't think I have either. That's an insane...\n",
       "188376     I did, my little brother used to love Thomas ...\n",
       "188377     It did. Ringo Starr, George Carlin, and Alec ...\n",
       "Name: message, Length: 188378, dtype: object"
      ]
     },
     "execution_count": 5,
     "metadata": {},
     "output_type": "execute_result"
    }
   ],
   "source": [
    "filtered_rows"
   ]
  },
  {
   "cell_type": "code",
   "execution_count": 6,
   "metadata": {},
   "outputs": [],
   "source": [
    "test_dataset = filtered_rows"
   ]
  },
  {
   "cell_type": "code",
   "execution_count": 7,
   "metadata": {},
   "outputs": [],
   "source": [
    "test_dataset.to_csv('test_dataset.csv', index=False)"
   ]
  },
  {
   "cell_type": "code",
   "execution_count": 20,
   "metadata": {},
   "outputs": [],
   "source": [
    "input_file = 'test_dataset.csv'\n",
    "output_file = 'cleaned_corpus.csv'\n",
    "\n",
    "# Open input file for reading and output file for writing\n",
    "with open(input_file, 'r', encoding='utf-8') as f_in, open(output_file, 'w', encoding='utf-8') as f_out:\n",
    "    # Iterate through each line in the input file\n",
    "    for line in f_in:\n",
    "\n",
    "        if not (line.startswith('\" ') and line.endswith(' \"')):\n",
    "                # If it doesn't, strip any leading/trailing whitespace and add quotes\n",
    "                # Write the modified line to the output file\n",
    "                f_out.write('\"' + line.strip() + '\"\\n')"
   ]
  },
  {
   "cell_type": "code",
   "execution_count": 27,
   "metadata": {},
   "outputs": [],
   "source": [
    "input_file2 = 'cleaned_corpus.csv'\n",
    "output_file2 = 'cleaned_corpus2.csv'\n",
    "\n",
    "# Open input file for reading and output file for writing\n",
    "with open(input_file2, 'r', encoding='utf-8') as f_in, open(output_file2, 'w', encoding='utf-8') as f_out:\n",
    "    # Iterate through each line in the input file\n",
    "    for line in f_in:\n",
    "\n",
    "        # Check if the line contains the pattern \" \" (a space enclosed within double quotes)\n",
    "        if '\"\"' in line:\n",
    "            # If it does, replace the pattern with a single double quote\n",
    "            line = line.replace('\"\" ', '\"')\n",
    "            line = line.replace('\"\"', '\"')\n",
    "        # Write the line to the output file\n",
    "        f_out.write(line)"
   ]
  },
  {
   "cell_type": "code",
   "execution_count": 32,
   "metadata": {},
   "outputs": [],
   "source": [
    "input_file2 = 'cleaned_corpus2.csv'\n",
    "output_file2 = 'cleaned_corpus3.csv'\n",
    "with open(input_file2, 'r', encoding='utf-8') as f_in, open(output_file2, 'w', encoding='utf-8') as f_out:\n",
    "    # Iterate through each line in the input file\n",
    "    for line in f_in:\n",
    "\n",
    "        # Check if the line contains the pattern \" \" (a space enclosed within double quotes)\n",
    "            # If it does, replace the pattern with a single double quote\n",
    "        line = line[1:-2]\n",
    "        # Write the line to the output file\n",
    "        f_out.write(line + '\\n')"
   ]
  }
 ],
 "metadata": {
  "kernelspec": {
   "display_name": "Python 3",
   "language": "python",
   "name": "python3"
  },
  "language_info": {
   "codemirror_mode": {
    "name": "ipython",
    "version": 3
   },
   "file_extension": ".py",
   "mimetype": "text/x-python",
   "name": "python",
   "nbconvert_exporter": "python",
   "pygments_lexer": "ipython3",
   "version": "3.11.7"
  }
 },
 "nbformat": 4,
 "nbformat_minor": 2
}
